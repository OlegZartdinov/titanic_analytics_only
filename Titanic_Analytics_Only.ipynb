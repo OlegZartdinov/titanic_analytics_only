{
 "cells": [
  {
   "cell_type": "code",
   "execution_count": 10,
   "id": "12b9f15a",
   "metadata": {},
   "outputs": [],
   "source": [
    "import numpy as np\n",
    "import pandas as pd\n",
    "import random\n",
    "\n",
    "from sklearn.model_selection import cross_val_score, train_test_split\n",
    "from sklearn.ensemble import RandomForestRegressor\n",
    "from sklearn.metrics import r2_score\n",
    "from sklearn.model_selection import KFold, GridSearchCV\n",
    "\n",
    "import matplotlib\n",
    "import matplotlib.pyplot as plt\n",
    "import seaborn as sns\n",
    "%matplotlib inline\n",
    "\n",
    "import warnings\n",
    "warnings.filterwarnings('ignore')\n",
    "sns.set(style='whitegrid')\n",
    "sns.set_context(\"paper\", font_scale=1.5)  \n",
    "pd.options.display.float_format = '{:,.2f}'.format\n",
    "pd.set_option('display.max_rows', 50)\n",
    "\n",
    "# Сброс ограничений на количество выводимых рядов\n",
    "pd.set_option('display.max_rows', None)\n",
    " \n",
    "# Сброс ограничений на число столбцов\n",
    "pd.set_option('display.max_columns', None)\n",
    " \n",
    "# Сброс ограничений на количество символов в записи\n",
    "pd.set_option('display.max_colwidth', None)"
   ]
  },
  {
   "cell_type": "markdown",
   "id": "32aa31ac",
   "metadata": {},
   "source": [
    "**Пути к директориям и папкам**"
   ]
  },
  {
   "cell_type": "code",
   "execution_count": 5,
   "id": "81f4d663",
   "metadata": {},
   "outputs": [],
   "source": [
    "TRAIN_DATASET_PATH = 'train.csv'"
   ]
  },
  {
   "cell_type": "markdown",
   "id": "d705374c",
   "metadata": {},
   "source": [
    "# Загрузка данных"
   ]
  },
  {
   "cell_type": "markdown",
   "id": "d7338d5d",
   "metadata": {},
   "source": [
    "**Описание датасета**\n",
    "\n",
    "В датасете представлены данные о пассажирах Титаника, их возраст, пол и другие характеристики:\n",
    "\n",
    "\n",
    "0- passengerID: passenger id.\n",
    "\n",
    "1- survival: Survival 0 = No, 1 = Yes.\n",
    "\n",
    "2- pclass: Ticket class 1 = 1st, 2 = 2nd, 3 = 3rd.\n",
    "\n",
    "3- sex: Sex.\n",
    "\n",
    "4- Age: Age in years.\n",
    "\n",
    "5- sibsp: # of siblings / spouses aboard the Titanic.\n",
    "\n",
    "6- parch: # of parents / children aboard the Titanic.\n",
    "\n",
    "7- ticket: Ticket number.\n",
    "\n",
    "8- fare: Passenger fare.\n",
    "\n",
    "9- cabin: Cabin number.\n",
    "\n",
    "10- embarked: Port of Embarkation C = Cherbourg, Q = Queenstown, S = Southampton.\n",
    "\n",
    "**Вопросы для анализа:**\n",
    "\n",
    "* **1:** Влияет ли возраст на выживаемость пассажиров?\n",
    "* **2:** Влияет ли пол пассажира на выживаемость?\n",
    "* **3:** Влияет ли стоимость билета на выживаемость пассажира?\n",
    "* **4:** Влиет ли класс каюты пассажира на выживаемость?\n",
    "* **5:** Влиет ли наличие братьев/сестер или супруга/жены на рейсе на выживаемость пассажира?\n",
    "* **6:** Влиет ли наличие детей или родителей на выживаемость пассажира?\n",
    "* **7:** Влиет ли порт посадки на рейс на выживаемость пассажира?\n"
   ]
  },
  {
   "cell_type": "markdown",
   "id": "49d89c68",
   "metadata": {},
   "source": [
    "# Предварительный анализ\n",
    "**Для начала посмотрим на данные**"
   ]
  },
  {
   "cell_type": "code",
   "execution_count": 6,
   "id": "2e8e2bbf",
   "metadata": {},
   "outputs": [
    {
     "data": {
      "text/html": [
       "<div>\n",
       "<style scoped>\n",
       "    .dataframe tbody tr th:only-of-type {\n",
       "        vertical-align: middle;\n",
       "    }\n",
       "\n",
       "    .dataframe tbody tr th {\n",
       "        vertical-align: top;\n",
       "    }\n",
       "\n",
       "    .dataframe thead th {\n",
       "        text-align: right;\n",
       "    }\n",
       "</style>\n",
       "<table border=\"1\" class=\"dataframe\">\n",
       "  <thead>\n",
       "    <tr style=\"text-align: right;\">\n",
       "      <th></th>\n",
       "      <th>Survived</th>\n",
       "      <th>Pclass</th>\n",
       "      <th>Name</th>\n",
       "      <th>Sex</th>\n",
       "      <th>Age</th>\n",
       "      <th>SibSp</th>\n",
       "      <th>Parch</th>\n",
       "      <th>Ticket</th>\n",
       "      <th>Fare</th>\n",
       "      <th>Cabin</th>\n",
       "      <th>Embarked</th>\n",
       "    </tr>\n",
       "    <tr>\n",
       "      <th>PassengerId</th>\n",
       "      <th></th>\n",
       "      <th></th>\n",
       "      <th></th>\n",
       "      <th></th>\n",
       "      <th></th>\n",
       "      <th></th>\n",
       "      <th></th>\n",
       "      <th></th>\n",
       "      <th></th>\n",
       "      <th></th>\n",
       "      <th></th>\n",
       "    </tr>\n",
       "  </thead>\n",
       "  <tbody>\n",
       "    <tr>\n",
       "      <th>1</th>\n",
       "      <td>0</td>\n",
       "      <td>3</td>\n",
       "      <td>Braund, Mr. Owen Harris</td>\n",
       "      <td>male</td>\n",
       "      <td>22.00</td>\n",
       "      <td>1</td>\n",
       "      <td>0</td>\n",
       "      <td>A/5 21171</td>\n",
       "      <td>7.25</td>\n",
       "      <td>NaN</td>\n",
       "      <td>S</td>\n",
       "    </tr>\n",
       "    <tr>\n",
       "      <th>2</th>\n",
       "      <td>1</td>\n",
       "      <td>1</td>\n",
       "      <td>Cumings, Mrs. John Bradley (Florence Briggs Thayer)</td>\n",
       "      <td>female</td>\n",
       "      <td>38.00</td>\n",
       "      <td>1</td>\n",
       "      <td>0</td>\n",
       "      <td>PC 17599</td>\n",
       "      <td>71.28</td>\n",
       "      <td>C85</td>\n",
       "      <td>C</td>\n",
       "    </tr>\n",
       "    <tr>\n",
       "      <th>3</th>\n",
       "      <td>1</td>\n",
       "      <td>3</td>\n",
       "      <td>Heikkinen, Miss. Laina</td>\n",
       "      <td>female</td>\n",
       "      <td>26.00</td>\n",
       "      <td>0</td>\n",
       "      <td>0</td>\n",
       "      <td>STON/O2. 3101282</td>\n",
       "      <td>7.92</td>\n",
       "      <td>NaN</td>\n",
       "      <td>S</td>\n",
       "    </tr>\n",
       "    <tr>\n",
       "      <th>4</th>\n",
       "      <td>1</td>\n",
       "      <td>1</td>\n",
       "      <td>Futrelle, Mrs. Jacques Heath (Lily May Peel)</td>\n",
       "      <td>female</td>\n",
       "      <td>35.00</td>\n",
       "      <td>1</td>\n",
       "      <td>0</td>\n",
       "      <td>113803</td>\n",
       "      <td>53.10</td>\n",
       "      <td>C123</td>\n",
       "      <td>S</td>\n",
       "    </tr>\n",
       "    <tr>\n",
       "      <th>5</th>\n",
       "      <td>0</td>\n",
       "      <td>3</td>\n",
       "      <td>Allen, Mr. William Henry</td>\n",
       "      <td>male</td>\n",
       "      <td>35.00</td>\n",
       "      <td>0</td>\n",
       "      <td>0</td>\n",
       "      <td>373450</td>\n",
       "      <td>8.05</td>\n",
       "      <td>NaN</td>\n",
       "      <td>S</td>\n",
       "    </tr>\n",
       "  </tbody>\n",
       "</table>\n",
       "</div>"
      ],
      "text/plain": [
       "             Survived  Pclass  \\\n",
       "PassengerId                     \n",
       "1                   0       3   \n",
       "2                   1       1   \n",
       "3                   1       3   \n",
       "4                   1       1   \n",
       "5                   0       3   \n",
       "\n",
       "                                                            Name     Sex  \\\n",
       "PassengerId                                                                \n",
       "1                                        Braund, Mr. Owen Harris    male   \n",
       "2            Cumings, Mrs. John Bradley (Florence Briggs Thayer)  female   \n",
       "3                                         Heikkinen, Miss. Laina  female   \n",
       "4                   Futrelle, Mrs. Jacques Heath (Lily May Peel)  female   \n",
       "5                                       Allen, Mr. William Henry    male   \n",
       "\n",
       "              Age  SibSp  Parch            Ticket  Fare Cabin Embarked  \n",
       "PassengerId                                                             \n",
       "1           22.00      1      0         A/5 21171  7.25   NaN        S  \n",
       "2           38.00      1      0          PC 17599 71.28   C85        C  \n",
       "3           26.00      0      0  STON/O2. 3101282  7.92   NaN        S  \n",
       "4           35.00      1      0            113803 53.10  C123        S  \n",
       "5           35.00      0      0            373450  8.05   NaN        S  "
      ]
     },
     "execution_count": 6,
     "metadata": {},
     "output_type": "execute_result"
    }
   ],
   "source": [
    "train_df = pd.read_csv(TRAIN_DATASET_PATH, index_col='PassengerId')\n",
    "train_df.head()"
   ]
  },
  {
   "cell_type": "code",
   "execution_count": 15,
   "id": "a4d75189",
   "metadata": {},
   "outputs": [
    {
     "data": {
      "text/html": [
       "<div>\n",
       "<style scoped>\n",
       "    .dataframe tbody tr th:only-of-type {\n",
       "        vertical-align: middle;\n",
       "    }\n",
       "\n",
       "    .dataframe tbody tr th {\n",
       "        vertical-align: top;\n",
       "    }\n",
       "\n",
       "    .dataframe thead th {\n",
       "        text-align: right;\n",
       "    }\n",
       "</style>\n",
       "<table border=\"1\" class=\"dataframe\">\n",
       "  <thead>\n",
       "    <tr style=\"text-align: right;\">\n",
       "      <th></th>\n",
       "      <th>Survived</th>\n",
       "      <th>Pclass</th>\n",
       "      <th>Age</th>\n",
       "      <th>SibSp</th>\n",
       "      <th>Parch</th>\n",
       "      <th>Fare</th>\n",
       "    </tr>\n",
       "  </thead>\n",
       "  <tbody>\n",
       "    <tr>\n",
       "      <th>count</th>\n",
       "      <td>891.00</td>\n",
       "      <td>891.00</td>\n",
       "      <td>714.00</td>\n",
       "      <td>891.00</td>\n",
       "      <td>891.00</td>\n",
       "      <td>891.00</td>\n",
       "    </tr>\n",
       "    <tr>\n",
       "      <th>mean</th>\n",
       "      <td>0.38</td>\n",
       "      <td>2.31</td>\n",
       "      <td>29.70</td>\n",
       "      <td>0.52</td>\n",
       "      <td>0.38</td>\n",
       "      <td>32.20</td>\n",
       "    </tr>\n",
       "    <tr>\n",
       "      <th>std</th>\n",
       "      <td>0.49</td>\n",
       "      <td>0.84</td>\n",
       "      <td>14.53</td>\n",
       "      <td>1.10</td>\n",
       "      <td>0.81</td>\n",
       "      <td>49.69</td>\n",
       "    </tr>\n",
       "    <tr>\n",
       "      <th>min</th>\n",
       "      <td>0.00</td>\n",
       "      <td>1.00</td>\n",
       "      <td>0.42</td>\n",
       "      <td>0.00</td>\n",
       "      <td>0.00</td>\n",
       "      <td>0.00</td>\n",
       "    </tr>\n",
       "    <tr>\n",
       "      <th>25%</th>\n",
       "      <td>0.00</td>\n",
       "      <td>2.00</td>\n",
       "      <td>20.12</td>\n",
       "      <td>0.00</td>\n",
       "      <td>0.00</td>\n",
       "      <td>7.91</td>\n",
       "    </tr>\n",
       "    <tr>\n",
       "      <th>50%</th>\n",
       "      <td>0.00</td>\n",
       "      <td>3.00</td>\n",
       "      <td>28.00</td>\n",
       "      <td>0.00</td>\n",
       "      <td>0.00</td>\n",
       "      <td>14.45</td>\n",
       "    </tr>\n",
       "    <tr>\n",
       "      <th>75%</th>\n",
       "      <td>1.00</td>\n",
       "      <td>3.00</td>\n",
       "      <td>38.00</td>\n",
       "      <td>1.00</td>\n",
       "      <td>0.00</td>\n",
       "      <td>31.00</td>\n",
       "    </tr>\n",
       "    <tr>\n",
       "      <th>max</th>\n",
       "      <td>1.00</td>\n",
       "      <td>3.00</td>\n",
       "      <td>80.00</td>\n",
       "      <td>8.00</td>\n",
       "      <td>6.00</td>\n",
       "      <td>512.33</td>\n",
       "    </tr>\n",
       "  </tbody>\n",
       "</table>\n",
       "</div>"
      ],
      "text/plain": [
       "       Survived  Pclass    Age  SibSp  Parch   Fare\n",
       "count    891.00  891.00 714.00 891.00 891.00 891.00\n",
       "mean       0.38    2.31  29.70   0.52   0.38  32.20\n",
       "std        0.49    0.84  14.53   1.10   0.81  49.69\n",
       "min        0.00    1.00   0.42   0.00   0.00   0.00\n",
       "25%        0.00    2.00  20.12   0.00   0.00   7.91\n",
       "50%        0.00    3.00  28.00   0.00   0.00  14.45\n",
       "75%        1.00    3.00  38.00   1.00   0.00  31.00\n",
       "max        1.00    3.00  80.00   8.00   6.00 512.33"
      ]
     },
     "execution_count": 15,
     "metadata": {},
     "output_type": "execute_result"
    }
   ],
   "source": [
    "train_df.describe()"
   ]
  },
  {
   "cell_type": "code",
   "execution_count": 45,
   "id": "cc27a1b4",
   "metadata": {},
   "outputs": [
    {
     "name": "stdout",
     "output_type": "stream",
     "text": [
      "<class 'pandas.core.frame.DataFrame'>\n",
      "Int64Index: 891 entries, 1 to 891\n",
      "Data columns (total 11 columns):\n",
      " #   Column    Non-Null Count  Dtype  \n",
      "---  ------    --------------  -----  \n",
      " 0   Survived  891 non-null    int64  \n",
      " 1   Pclass    891 non-null    int64  \n",
      " 2   Name      891 non-null    object \n",
      " 3   Sex       891 non-null    object \n",
      " 4   Age       714 non-null    float64\n",
      " 5   SibSp     891 non-null    int64  \n",
      " 6   Parch     891 non-null    int64  \n",
      " 7   Ticket    891 non-null    object \n",
      " 8   Fare      891 non-null    float64\n",
      " 9   Cabin     204 non-null    object \n",
      " 10  Embarked  889 non-null    object \n",
      "dtypes: float64(2), int64(4), object(5)\n",
      "memory usage: 83.5+ KB\n"
     ]
    }
   ],
   "source": [
    "train_df.info()"
   ]
  },
  {
   "cell_type": "code",
   "execution_count": 8,
   "id": "61d2a4d1",
   "metadata": {},
   "outputs": [
    {
     "data": {
      "text/plain": [
       "(891, 11)"
      ]
     },
     "execution_count": 8,
     "metadata": {},
     "output_type": "execute_result"
    }
   ],
   "source": [
    "train_df.shape"
   ]
  },
  {
   "cell_type": "markdown",
   "id": "e7a6af72",
   "metadata": {},
   "source": [
    "**Выводы после первого просмотра**\n",
    "\n",
    "Целевым значением будет значение \"Survived\" (Выжил)\n",
    "\n",
    "* Всего пассажиров 891  \n",
    "* Много пропущенных значений в \"Age\" (Возраст пассажира) (есть 714 из 891, % потерь 19.86) **заполним пропущенные значения средним**  \n",
    "* Практически отсутсвуют значения в \"Cabin\" (Номер каюты) (есть 204 из 891, % потерь 77.10) **удалим**   \n",
    "* \"Name\" (имя пассажира) известное имя или популярность пассажира могла повлиять на его выживаемость, но в формате данного анализа рассмотрение такого влияния не предоставляется возможным, поэтому **столбец придётся удалить**, как и \"Ticket\" (номер билета) и \"PassengerID\" (айди пассажира), значения которых скорее просто номинально-отчетные\n"
   ]
  },
  {
   "cell_type": "markdown",
   "id": "ce674ef7",
   "metadata": {},
   "source": [
    "# Приступим к очистке данных"
   ]
  },
  {
   "cell_type": "markdown",
   "id": "88d55cb6",
   "metadata": {},
   "source": [
    "Удалим \"Name\", \"Ticket\" и \"Cabin\""
   ]
  },
  {
   "cell_type": "code",
   "execution_count": 16,
   "id": "a3fb2acd",
   "metadata": {},
   "outputs": [],
   "source": [
    "train_df.drop(columns=[\"Name\", \"Ticket\", \"Cabin\"], axis=1, inplace=True, errors='ignore')"
   ]
  },
  {
   "cell_type": "markdown",
   "id": "4cf6321d",
   "metadata": {},
   "source": [
    "Проверим результат"
   ]
  },
  {
   "cell_type": "code",
   "execution_count": 17,
   "id": "34eec897",
   "metadata": {},
   "outputs": [
    {
     "data": {
      "text/html": [
       "<div>\n",
       "<style scoped>\n",
       "    .dataframe tbody tr th:only-of-type {\n",
       "        vertical-align: middle;\n",
       "    }\n",
       "\n",
       "    .dataframe tbody tr th {\n",
       "        vertical-align: top;\n",
       "    }\n",
       "\n",
       "    .dataframe thead th {\n",
       "        text-align: right;\n",
       "    }\n",
       "</style>\n",
       "<table border=\"1\" class=\"dataframe\">\n",
       "  <thead>\n",
       "    <tr style=\"text-align: right;\">\n",
       "      <th></th>\n",
       "      <th>Survived</th>\n",
       "      <th>Pclass</th>\n",
       "      <th>Sex</th>\n",
       "      <th>Age</th>\n",
       "      <th>SibSp</th>\n",
       "      <th>Parch</th>\n",
       "      <th>Fare</th>\n",
       "      <th>Embarked</th>\n",
       "    </tr>\n",
       "    <tr>\n",
       "      <th>PassengerId</th>\n",
       "      <th></th>\n",
       "      <th></th>\n",
       "      <th></th>\n",
       "      <th></th>\n",
       "      <th></th>\n",
       "      <th></th>\n",
       "      <th></th>\n",
       "      <th></th>\n",
       "    </tr>\n",
       "  </thead>\n",
       "  <tbody>\n",
       "    <tr>\n",
       "      <th>1</th>\n",
       "      <td>0</td>\n",
       "      <td>3</td>\n",
       "      <td>male</td>\n",
       "      <td>22.00</td>\n",
       "      <td>1</td>\n",
       "      <td>0</td>\n",
       "      <td>7.25</td>\n",
       "      <td>S</td>\n",
       "    </tr>\n",
       "    <tr>\n",
       "      <th>2</th>\n",
       "      <td>1</td>\n",
       "      <td>1</td>\n",
       "      <td>female</td>\n",
       "      <td>38.00</td>\n",
       "      <td>1</td>\n",
       "      <td>0</td>\n",
       "      <td>71.28</td>\n",
       "      <td>C</td>\n",
       "    </tr>\n",
       "    <tr>\n",
       "      <th>3</th>\n",
       "      <td>1</td>\n",
       "      <td>3</td>\n",
       "      <td>female</td>\n",
       "      <td>26.00</td>\n",
       "      <td>0</td>\n",
       "      <td>0</td>\n",
       "      <td>7.92</td>\n",
       "      <td>S</td>\n",
       "    </tr>\n",
       "    <tr>\n",
       "      <th>4</th>\n",
       "      <td>1</td>\n",
       "      <td>1</td>\n",
       "      <td>female</td>\n",
       "      <td>35.00</td>\n",
       "      <td>1</td>\n",
       "      <td>0</td>\n",
       "      <td>53.10</td>\n",
       "      <td>S</td>\n",
       "    </tr>\n",
       "    <tr>\n",
       "      <th>5</th>\n",
       "      <td>0</td>\n",
       "      <td>3</td>\n",
       "      <td>male</td>\n",
       "      <td>35.00</td>\n",
       "      <td>0</td>\n",
       "      <td>0</td>\n",
       "      <td>8.05</td>\n",
       "      <td>S</td>\n",
       "    </tr>\n",
       "  </tbody>\n",
       "</table>\n",
       "</div>"
      ],
      "text/plain": [
       "             Survived  Pclass     Sex   Age  SibSp  Parch  Fare Embarked\n",
       "PassengerId                                                             \n",
       "1                   0       3    male 22.00      1      0  7.25        S\n",
       "2                   1       1  female 38.00      1      0 71.28        C\n",
       "3                   1       3  female 26.00      0      0  7.92        S\n",
       "4                   1       1  female 35.00      1      0 53.10        S\n",
       "5                   0       3    male 35.00      0      0  8.05        S"
      ]
     },
     "execution_count": 17,
     "metadata": {},
     "output_type": "execute_result"
    }
   ],
   "source": [
    "train_df.head()"
   ]
  },
  {
   "cell_type": "markdown",
   "id": "e0e91f1c",
   "metadata": {},
   "source": [
    "# Заполним пропущенные значения"
   ]
  },
  {
   "cell_type": "markdown",
   "id": "47a06d64",
   "metadata": {},
   "source": [
    "**Age**\n",
    "\n",
    "Заполним по медиане"
   ]
  },
  {
   "cell_type": "code",
   "execution_count": 13,
   "id": "9a362b52",
   "metadata": {},
   "outputs": [
    {
     "name": "stdout",
     "output_type": "stream",
     "text": [
      "29.69911764705882\n"
     ]
    }
   ],
   "source": [
    "age_mean = train_df['Age'].mean()\n",
    "print(age_mean)\n",
    "train_df['Age'].fillna(age_mean, inplace=True)"
   ]
  },
  {
   "cell_type": "markdown",
   "id": "1dc8d97b",
   "metadata": {},
   "source": [
    "Проверим результат"
   ]
  },
  {
   "cell_type": "code",
   "execution_count": 14,
   "id": "93cfba52",
   "metadata": {},
   "outputs": [
    {
     "name": "stdout",
     "output_type": "stream",
     "text": [
      "<class 'pandas.core.frame.DataFrame'>\n",
      "Int64Index: 891 entries, 1 to 891\n",
      "Data columns (total 8 columns):\n",
      " #   Column    Non-Null Count  Dtype  \n",
      "---  ------    --------------  -----  \n",
      " 0   Survived  891 non-null    int64  \n",
      " 1   Pclass    891 non-null    int64  \n",
      " 2   Sex       891 non-null    object \n",
      " 3   Age       891 non-null    float64\n",
      " 4   SibSp     891 non-null    int64  \n",
      " 5   Parch     891 non-null    int64  \n",
      " 6   Fare      891 non-null    float64\n",
      " 7   Embarked  889 non-null    object \n",
      "dtypes: float64(2), int64(4), object(2)\n",
      "memory usage: 62.6+ KB\n"
     ]
    }
   ],
   "source": [
    "train_df.info()"
   ]
  },
  {
   "cell_type": "markdown",
   "id": "f85177f1",
   "metadata": {},
   "source": [
    "**Embarked**"
   ]
  },
  {
   "cell_type": "markdown",
   "id": "091f6196",
   "metadata": {},
   "source": [
    "Так как это категориальный признак, сначала рассмотрим какие значения присутсвуют"
   ]
  },
  {
   "cell_type": "code",
   "execution_count": 15,
   "id": "9846b9a1",
   "metadata": {},
   "outputs": [
    {
     "data": {
      "text/plain": [
       "S    644\n",
       "C    168\n",
       "Q     77\n",
       "Name: Embarked, dtype: int64"
      ]
     },
     "execution_count": 15,
     "metadata": {},
     "output_type": "execute_result"
    }
   ],
   "source": [
    "train_df[\"Embarked\"].value_counts()"
   ]
  },
  {
   "cell_type": "markdown",
   "id": "d0a5a45f",
   "metadata": {},
   "source": [
    "Заполним по наиболее встречающемуся значению - \"S\""
   ]
  },
  {
   "cell_type": "code",
   "execution_count": 31,
   "id": "ab356886",
   "metadata": {},
   "outputs": [],
   "source": [
    "train_df[\"Embarked\"].fillna(\"S\", inplace=True)"
   ]
  },
  {
   "cell_type": "markdown",
   "id": "5dd8107d",
   "metadata": {},
   "source": [
    "Проверим результат"
   ]
  },
  {
   "cell_type": "code",
   "execution_count": 32,
   "id": "16451694",
   "metadata": {},
   "outputs": [
    {
     "name": "stdout",
     "output_type": "stream",
     "text": [
      "<class 'pandas.core.frame.DataFrame'>\n",
      "Int64Index: 891 entries, 1 to 891\n",
      "Data columns (total 8 columns):\n",
      " #   Column    Non-Null Count  Dtype  \n",
      "---  ------    --------------  -----  \n",
      " 0   Survived  891 non-null    int64  \n",
      " 1   Pclass    891 non-null    int64  \n",
      " 2   Sex       891 non-null    object \n",
      " 3   Age       891 non-null    float64\n",
      " 4   SibSp     891 non-null    int64  \n",
      " 5   Parch     891 non-null    int64  \n",
      " 6   Fare      891 non-null    float64\n",
      " 7   Embarked  891 non-null    object \n",
      "dtypes: float64(2), int64(4), object(2)\n",
      "memory usage: 62.6+ KB\n"
     ]
    }
   ],
   "source": [
    "train_df.info()"
   ]
  },
  {
   "cell_type": "markdown",
   "id": "4d4caabc",
   "metadata": {},
   "source": [
    "**Пропущенных значений больше нет**"
   ]
  },
  {
   "cell_type": "markdown",
   "id": "f42fb0d6",
   "metadata": {},
   "source": [
    "# Приступим к анализу данных"
   ]
  },
  {
   "cell_type": "code",
   "execution_count": 29,
   "id": "d83f5b7b",
   "metadata": {},
   "outputs": [
    {
     "name": "stdout",
     "output_type": "stream",
     "text": [
      "male      577\n",
      "female    314\n",
      "Name: Sex, dtype: int64\n"
     ]
    },
    {
     "data": {
      "image/png": "[encoded data removed]",
      "text/plain": [
       "<Figure size 432x288 with 1 Axes>"
      ]
     },
     "metadata": {},
     "output_type": "display_data"
    }
   ],
   "source": [
    "#Сначала посчитаем и визуализируем количество мужчин и женщин на судне\n",
    "print(train_df[\"Sex\"].value_counts())\n",
    "train_df[\"Sex\"].value_counts().plot.bar(edgecolor='black', rot=0, width=1, color=['lightblue', 'pink']);"
   ]
  },
  {
   "cell_type": "markdown",
   "id": "f99b181d",
   "metadata": {},
   "source": [
    "**Количество женщин на судне меньше, чем мужчин**"
   ]
  },
  {
   "cell_type": "code",
   "execution_count": 37,
   "id": "461b9173",
   "metadata": {},
   "outputs": [],
   "source": [
    "#создадим интерпретацию для пассажиров, кто выжил и нет\n",
    "survived = train_df['Survived'] == 1\n",
    "died = train_df['Survived'] == 0"
   ]
  },
  {
   "cell_type": "markdown",
   "id": "17b52d35",
   "metadata": {},
   "source": [
    "**Так как графиков будет много, то удобнее всего будет написать несколько функций для постройки графика по заданному параметру**"
   ]
  },
  {
   "cell_type": "code",
   "execution_count": 127,
   "id": "885db1de",
   "metadata": {},
   "outputs": [],
   "source": [
    "# Определим функцию для постройки графика, показывающего частоту повторения переменной на основе \"Survived\"\n",
    "def plot_hist(col):\n",
    "    #размер графика\n",
    "    plt.figure(figsize=(7,7))\n",
    "    #график\n",
    "    train_df[col][survived].hist(alpha=0.6, color=['orange'], label='survided')\n",
    "    train_df[col][died].hist(alpha=0.6, color=['lightblue'], label='died')\n",
    "    #обозначения осей\n",
    "    plt.ylabel('Frequency'.title(), fontsize = 14, weight = \"bold\")\n",
    "    plt.xlabel('{}'.format(col).title(), fontsize = 14, weight = \"bold\") \n",
    "    #заголовок графика\n",
    "    plt.title(\"frequency of people that survived and those who died depending on {}\".format(col).title(), fontsize = 14, weight = \"bold\")\n",
    "    #легенда\n",
    "    plt.legend();"
   ]
  },
  {
   "cell_type": "code",
   "execution_count": 103,
   "id": "7d3a1156",
   "metadata": {},
   "outputs": [],
   "source": [
    "# Определим функцию для постойки графика, показывающего процент выживщих по переменной \n",
    "def bar_chart(column):\n",
    "    #вывод долей\n",
    "    print(train_df.groupby(column)['Survived'].value_counts(normalize=True).unstack(column))\n",
    "    #параметры графика\n",
    "    train_df.groupby(column)['Survived'].value_counts(normalize=True).unstack(column).plot.bar(edgecolor='black', figsize=[7, 7], rot=0, width=1, color=['pink', 'lightblue', 'orange'])\n",
    "    #заголовок графика\n",
    "    plt.title('{} and survival'.format(column).title(), fontsize = 14, weight = \"bold\")\n",
    "    #обозначения осей\n",
    "    plt.ylabel('percentage'.title(), fontsize = 14, weight = \"bold\")\n",
    "    plt.xlabel('{}'.format('survived').title(), fontsize = 14, weight = \"bold\") ;"
   ]
  },
  {
   "cell_type": "code",
   "execution_count": 102,
   "id": "7168e142",
   "metadata": {},
   "outputs": [],
   "source": [
    "# defining a bar plot function to show the frequency of survival depending on a variable.\n",
    "def bar_plot(col):\n",
    "    \n",
    "    print(train_df.groupby(col)['Survived'].value_counts(normalize=True).unstack(col))\n",
    "    #легенда\n",
    "    train_df[col][survived].value_counts().plot.bar(alpha=0.4, figsize=[7, 7], color=['blue'], label='survided')\n",
    "    train_df[col][died].value_counts().plot.bar(alpha=0.7, figsize=[7, 7], color=['orange'], label='died')\n",
    "    plt.xticks(rotation=0)\n",
    "    #заголовок графика\n",
    "    plt.title('{} and survival'.format(col).title(), fontsize = 14, weight = \"bold\")\n",
    "    #обозначения осей\n",
    "    plt.ylabel('frequency'.title(), fontsize = 14, weight = \"bold\")\n",
    "    plt.xlabel('{}'.format('Survived').title(), fontsize = 14, weight = \"bold\") ;\n",
    "    plt.legend();"
   ]
  },
  {
   "cell_type": "markdown",
   "id": "34ff05c6",
   "metadata": {},
   "source": [
    "# Вопрос 1:  Влияет ли возраст на выживаемость пассажиров?\n"
   ]
  },
  {
   "cell_type": "code",
   "execution_count": 128,
   "id": "d75c26e0",
   "metadata": {},
   "outputs": [
    {
     "data": {
      "image/png": "[encoded data removed]",
      "text/plain": [
       "<Figure size 504x504 with 1 Axes>"
      ]
     },
     "metadata": {},
     "output_type": "display_data"
    }
   ],
   "source": [
    "#построим график для возраста пассажира\n",
    "plot_hist(\"Age\")"
   ]
  },
  {
   "cell_type": "markdown",
   "id": "7a61a4ae",
   "metadata": {},
   "source": [
    "**Вывод:** На основе графика видно, что наибольшее количество погибщих было в категории 20-30 лет. В то же время у детей и подростков (0-20 лет), а так же пожилых шансов выжить было больше."
   ]
  },
  {
   "cell_type": "markdown",
   "id": "5c41e8c7",
   "metadata": {},
   "source": [
    "# Вопрос 2:  Влияет ли пол пассажира на выживаемость?"
   ]
  },
  {
   "cell_type": "code",
   "execution_count": 75,
   "id": "1729bb6d",
   "metadata": {},
   "outputs": [
    {
     "name": "stdout",
     "output_type": "stream",
     "text": [
      "Sex       female  male\n",
      "Survived              \n",
      "0           0.26  0.81\n",
      "1           0.74  0.19\n"
     ]
    },
    {
     "data": {
      "image/png": "[encoded data removed]",
      "text/plain": [
       "<Figure size 504x504 with 1 Axes>"
      ]
     },
     "metadata": {},
     "output_type": "display_data"
    }
   ],
   "source": [
    "#построим график для пола пассажира\n",
    "bar_chart(\"Sex\")"
   ]
  },
  {
   "cell_type": "markdown",
   "id": "413e18d1",
   "metadata": {},
   "source": [
    "**Вывод:** Из графика видно, что средний шанс выжить у мужчин был всего 20%, в то время как у женщин он в районе 75%. Предположение о том, что мужчны уступали места детям и женщинам."
   ]
  },
  {
   "cell_type": "markdown",
   "id": "07d46a60",
   "metadata": {},
   "source": [
    "# Вопрос 3:  Влияет ли стоимость билета на выживаемость пассажира??"
   ]
  },
  {
   "cell_type": "code",
   "execution_count": 125,
   "id": "d66b09dc",
   "metadata": {},
   "outputs": [
    {
     "data": {
      "image/png": "[encoded data removed]",
      "text/plain": [
       "<Figure size 504x504 with 1 Axes>"
      ]
     },
     "metadata": {},
     "output_type": "display_data"
    }
   ],
   "source": [
    "#построим график для стоимости билета\n",
    "plot_hist(\"Fare\")"
   ]
  },
  {
   "cell_type": "code",
   "execution_count": 83,
   "id": "75b04e40",
   "metadata": {},
   "outputs": [
    {
     "name": "stdout",
     "output_type": "stream",
     "text": [
      "the mean fare of people who survived is 48.39540760233917 dollar\n",
      "the mean fare of people who died is 22.117886885245877 dollar\n"
     ]
    }
   ],
   "source": [
    "#выведем медиану цены билета выживших и нет пассажиров\n",
    "print(\"the mean fare of people who survived is {} dollar\".format(train_df.Fare[survived].mean()))\n",
    "print(\"the mean fare of people who died is {} dollar\".format(train_df.Fare[died].mean()))"
   ]
  },
  {
   "cell_type": "markdown",
   "id": "718e53ed",
   "metadata": {},
   "source": [
    "**Вывод:** На основе графика и вычислений выше, можно сделать вывод, что с ценой билета менее медианы в 22.1$, пассажир был обречён (самые дешевые билеты были в каютах глубоко в трюме без окон и множеством узких коридоров, а так же толкучка в них не позволила пассажирам даже выбраться на поверность)."
   ]
  },
  {
   "cell_type": "markdown",
   "id": "028b3b96",
   "metadata": {},
   "source": [
    "# Вопрос 4:  Влияет ли класс каюты пассажира на выживаемость?"
   ]
  },
  {
   "cell_type": "code",
   "execution_count": 97,
   "id": "6bfca8d5",
   "metadata": {},
   "outputs": [
    {
     "name": "stdout",
     "output_type": "stream",
     "text": [
      "Pclass      1    2    3\n",
      "Survived               \n",
      "0        0.37 0.53 0.76\n",
      "1        0.63 0.47 0.24\n"
     ]
    },
    {
     "data": {
      "image/png": "[encoded data removed]",
      "text/plain": [
       "<Figure size 504x504 with 1 Axes>"
      ]
     },
     "metadata": {},
     "output_type": "display_data"
    }
   ],
   "source": [
    "#построим график для классов кают\n",
    "bar_chart(\"Pclass\")"
   ]
  },
  {
   "cell_type": "markdown",
   "id": "1cad75fe",
   "metadata": {},
   "source": [
    "**Вывод:** Из графика видно, что наибольшие шансы на выживание были у пассажиров 1го класса и самые низкие у пассажиров 3го класса, что подтверждает вывод анализа стоимости билетов."
   ]
  },
  {
   "cell_type": "markdown",
   "id": "ecd15827",
   "metadata": {},
   "source": [
    "# Вопрос 5:  Влияет ли наличие братьев/сестер или супруга/жены на рейсе на выживаемость пассажира?"
   ]
  },
  {
   "cell_type": "code",
   "execution_count": 129,
   "id": "5c1adc40",
   "metadata": {},
   "outputs": [
    {
     "name": "stdout",
     "output_type": "stream",
     "text": [
      "SibSp       0    1    2    3    4    5    8\n",
      "Survived                                   \n",
      "0        0.65 0.46 0.54 0.75 0.83 1.00 1.00\n",
      "1        0.35 0.54 0.46 0.25 0.17  NaN  NaN\n"
     ]
    },
    {
     "data": {
      "image/png": "[encoded data removed]",
      "text/plain": [
       "<Figure size 504x504 with 1 Axes>"
      ]
     },
     "metadata": {},
     "output_type": "display_data"
    }
   ],
   "source": [
    "#посчитаем шансы выживаемости\n",
    "bar_plot(\"SibSp\")"
   ]
  },
  {
   "cell_type": "markdown",
   "id": "24b2bd3f",
   "metadata": {},
   "source": [
    "**Вывод:** Пассажиры с 5 и более братьями и сёстрами вообще не имели шансов выжить, 54% шанс выжить был у тех, кто оказался в паре, пассажири в одиночестве имели всего 35% выживаемости."
   ]
  },
  {
   "cell_type": "markdown",
   "id": "8ffb186d",
   "metadata": {},
   "source": [
    "# Вопрос 6:  Влияет ли наличие детей или родителей на выживаемость пассажира?"
   ]
  },
  {
   "cell_type": "code",
   "execution_count": 107,
   "id": "191cf435",
   "metadata": {},
   "outputs": [
    {
     "name": "stdout",
     "output_type": "stream",
     "text": [
      "Parch       0    1    2    3    4    5    6\n",
      "Survived                                   \n",
      "0        0.66 0.45 0.50 0.40 1.00 0.80 1.00\n",
      "1        0.34 0.55 0.50 0.60  NaN 0.20  NaN\n"
     ]
    },
    {
     "data": {
      "image/png": "[encoded data removed]",
      "text/plain": [
       "<Figure size 504x504 with 1 Axes>"
      ]
     },
     "metadata": {},
     "output_type": "display_data"
    }
   ],
   "source": [
    "#построим график для пассажиров с детьми и родителями\n",
    "bar_plot(\"Parch\")"
   ]
  },
  {
   "cell_type": "code",
   "execution_count": 95,
   "id": "0f97b2fb",
   "metadata": {},
   "outputs": [
    {
     "data": {
      "text/html": [
       "<div>\n",
       "<style scoped>\n",
       "    .dataframe tbody tr th:only-of-type {\n",
       "        vertical-align: middle;\n",
       "    }\n",
       "\n",
       "    .dataframe tbody tr th {\n",
       "        vertical-align: top;\n",
       "    }\n",
       "\n",
       "    .dataframe thead th {\n",
       "        text-align: right;\n",
       "    }\n",
       "</style>\n",
       "<table border=\"1\" class=\"dataframe\">\n",
       "  <thead>\n",
       "    <tr style=\"text-align: right;\">\n",
       "      <th></th>\n",
       "      <th>Survived</th>\n",
       "      <th>Pclass</th>\n",
       "      <th>Sex</th>\n",
       "      <th>Age</th>\n",
       "      <th>SibSp</th>\n",
       "      <th>Parch</th>\n",
       "      <th>Fare</th>\n",
       "      <th>Embarked</th>\n",
       "    </tr>\n",
       "    <tr>\n",
       "      <th>PassengerId</th>\n",
       "      <th></th>\n",
       "      <th></th>\n",
       "      <th></th>\n",
       "      <th></th>\n",
       "      <th></th>\n",
       "      <th></th>\n",
       "      <th></th>\n",
       "      <th></th>\n",
       "    </tr>\n",
       "  </thead>\n",
       "  <tbody>\n",
       "    <tr>\n",
       "      <th>14</th>\n",
       "      <td>0</td>\n",
       "      <td>3</td>\n",
       "      <td>male</td>\n",
       "      <td>39.00</td>\n",
       "      <td>1</td>\n",
       "      <td>5</td>\n",
       "      <td>31.27</td>\n",
       "      <td>S</td>\n",
       "    </tr>\n",
       "    <tr>\n",
       "      <th>26</th>\n",
       "      <td>1</td>\n",
       "      <td>3</td>\n",
       "      <td>female</td>\n",
       "      <td>38.00</td>\n",
       "      <td>1</td>\n",
       "      <td>5</td>\n",
       "      <td>31.39</td>\n",
       "      <td>S</td>\n",
       "    </tr>\n",
       "    <tr>\n",
       "      <th>611</th>\n",
       "      <td>0</td>\n",
       "      <td>3</td>\n",
       "      <td>female</td>\n",
       "      <td>39.00</td>\n",
       "      <td>1</td>\n",
       "      <td>5</td>\n",
       "      <td>31.27</td>\n",
       "      <td>S</td>\n",
       "    </tr>\n",
       "    <tr>\n",
       "      <th>639</th>\n",
       "      <td>0</td>\n",
       "      <td>3</td>\n",
       "      <td>female</td>\n",
       "      <td>41.00</td>\n",
       "      <td>0</td>\n",
       "      <td>5</td>\n",
       "      <td>39.69</td>\n",
       "      <td>S</td>\n",
       "    </tr>\n",
       "    <tr>\n",
       "      <th>886</th>\n",
       "      <td>0</td>\n",
       "      <td>3</td>\n",
       "      <td>female</td>\n",
       "      <td>39.00</td>\n",
       "      <td>0</td>\n",
       "      <td>5</td>\n",
       "      <td>29.12</td>\n",
       "      <td>Q</td>\n",
       "    </tr>\n",
       "  </tbody>\n",
       "</table>\n",
       "</div>"
      ],
      "text/plain": [
       "             Survived  Pclass     Sex   Age  SibSp  Parch  Fare Embarked\n",
       "PassengerId                                                             \n",
       "14                  0       3    male 39.00      1      5 31.27        S\n",
       "26                  1       3  female 38.00      1      5 31.39        S\n",
       "611                 0       3  female 39.00      1      5 31.27        S\n",
       "639                 0       3  female 41.00      0      5 39.69        S\n",
       "886                 0       3  female 39.00      0      5 29.12        Q"
      ]
     },
     "execution_count": 95,
     "metadata": {},
     "output_type": "execute_result"
    }
   ],
   "source": [
    "train_df.query('Parch == 5')"
   ]
  },
  {
   "cell_type": "markdown",
   "id": "c0224fb2",
   "metadata": {},
   "source": [
    "**Вывод:** Только один пассажир с 5-ю детьми смог выжить, наивысшие шансы выжить имели пассажиры с 3-мя детьми - 60%, одиночки же имели 66% не выжить."
   ]
  },
  {
   "cell_type": "markdown",
   "id": "440f0bf6",
   "metadata": {},
   "source": [
    "# Вопрос 7:  Влияет ли посадки на рейс на выживаемость пассажира?"
   ]
  },
  {
   "cell_type": "code",
   "execution_count": 108,
   "id": "b4109b6a",
   "metadata": {},
   "outputs": [
    {
     "name": "stdout",
     "output_type": "stream",
     "text": [
      "Embarked    C    Q    S\n",
      "Survived               \n",
      "0        0.45 0.61 0.66\n",
      "1        0.55 0.39 0.34\n"
     ]
    },
    {
     "data": {
      "image/png": "[encoded data removed]",
      "text/plain": [
       "<Figure size 504x504 with 1 Axes>"
      ]
     },
     "metadata": {},
     "output_type": "display_data"
    }
   ],
   "source": [
    "#построим график для порта посадки\n",
    "bar_plot(\"Embarked\")"
   ]
  },
  {
   "cell_type": "markdown",
   "id": "08b0e024",
   "metadata": {},
   "source": [
    "**Вывод:** Из графика видно, что пассажиры попавшие на рейс с порта \"C\" (порт Cherbourg) имели 55% выжить"
   ]
  },
  {
   "cell_type": "markdown",
   "id": "be01ee59",
   "metadata": {},
   "source": [
    "# Подведение итогов анализа"
   ]
  },
  {
   "cell_type": "markdown",
   "id": "59064ffa",
   "metadata": {},
   "source": [
    "**1)** Пассажиров мужчим на рейсе было больше, чем женщин.  \n",
    "**2)** Большинство пассажиров 20-30 лет имели крайне низкие шансы выжить, в то время как дети, подростки и пожилые имели высокие шансы.  \n",
    "**3)** Женщины на судне имели 75% шанс на спасение, в то время как 80% мужчин погибли.  \n",
    "**4)** Медианная цена билета выжившего составила 48.3$, в то время как погибшего - 22.1$.  \n",
    "**5)** Самые высокие шансы выжить имели пассажиры 1го класса, в то время как среди пассажиров 3го класса спасся только каждый третий.  \n",
    "**6)** Выживших с большим количеством братьев/сёстер (больше 4-х) нет, наибольшие шансы выжить были у пар, а наименьшие у одиночек - 35%.  \n",
    "**7)** Только один пассажир с 5-ю детьми смог выжить, наивысшие шансы выжить имели пассажиры с 3-мя детьми - 60%, одиночки же имели 66% не выжить.  \n",
    "**8)** Наибольшие шансы выжить были у пассажиров, попавших на рейс с порта \"C\" (порт Cherbourg) и имели 55% выжить.  "
   ]
  },
  {
   "cell_type": "markdown",
   "id": "6c167b53",
   "metadata": {},
   "source": [
    "# Дополнения по улучшению анализа"
   ]
  },
  {
   "cell_type": "markdown",
   "id": "b92b0c61",
   "metadata": {},
   "source": [
    "**1)** Определённые данные, например, расстояние от каюты до выхода, конкретное место (верхнее или нижнее в каютах 3-го класса), билеты на концерт и прочие данные могли бы дополнить и уточнить анализ.  \n",
    "**2)** Заполнение пропущенных значений другими способами"
   ]
  }
 ],
 "metadata": {
  "kernelspec": {
   "display_name": "Python 3",
   "language": "python",
   "name": "python3"
  },
  "language_info": {
   "codemirror_mode": {
    "name": "ipython",
    "version": 3
   },
   "file_extension": ".py",
   "mimetype": "text/x-python",
   "name": "python",
   "nbconvert_exporter": "python",
   "pygments_lexer": "ipython3",
   "version": "3.8.8"
  }
 },
 "nbformat": 4,
 "nbformat_minor": 5
}
